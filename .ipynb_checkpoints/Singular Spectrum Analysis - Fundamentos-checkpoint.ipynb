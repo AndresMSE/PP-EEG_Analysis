{
 "cells": [
  {
   "cell_type": "markdown",
   "metadata": {},
   "source": [
    "# Análisis de espectro singular (SSA) \n",
    "***"
   ]
  },
  {
   "cell_type": "markdown",
   "metadata": {},
   "source": [
    "### Sinopsis\n",
    "\n",
    "*__Datos:__ 3 segundos de registro EEG lóbulo occipital muestreados a 500 Hz bajo condiciones de relajación con los ojos cerrados.* <br>\n",
    "*__Objetivo:__ Conocer, definir y conceptualizar el análisis de espectro singular.* <br>\n",
    "*__Herramientas:__ Funciones: Scree diagram, SSA.* <br>"
   ]
  },
  {
   "cell_type": "markdown",
   "metadata": {},
   "source": [
    "### Introducción \n",
    "\n",
    "Singular Spectrum Analysis  (SSA) es una técnica de análisis de series de tiempo fundamentada en el álgebra lineal que descrito por Hassani (2007) se trata de una técnica poderosa, innovadora y con diversas aplicaciones a problemas prácticos en distintas áreas desde matemáticas y física hasta señales biológicas  \\cite{hassani2007singular} \\cite{sanei2015singular}. De acuerdo con Golyandina (2001) la técnica incorpora elementos de análisis clásico de series de tiempo, estadística multivariable, geometría multivariable, sistemas dinámicos y procesamiento de señales \\cite{golyandina2001analysis}. La idea principal en SSA recae en el concepto de separabilidad de la señal, es decir, descomponer la serie de tiempo como una suma de componentes independientes interpretables, siendo algunos de estas componentes interpretadas como la tendencia de la serie, componentes oscilatorias y ruido estructural. Un entendimiento a profundidad del concepto de separabilidad y de sus implicaciones metodológicas y teóricas provee de una mejor interpretación de las componentes y como resultado una aplicación más robusta de la técnica. "
   ]
  },
  {
   "cell_type": "markdown",
   "metadata": {},
   "source": [
    "### Concepto y beneficios\n",
    "\n",
    "En la actualidad SSA es una herramienta particularmente útil para el análisis de datos con patrones periódicos complejos o tendencias no estacionales al ser un método no paramétrico que no requiere asumir propiedades sobre el conjunto de datos tal como la estacionariedad y la normalización. Además de la reconstrucción de la señal a partir de las componentes independientes e interpretables, algunos de los problemas que pueden resolverse con SSA son: \n",
    "\\begin{enumerate}\n",
    "\t\\item Encontrar tendencias de diferentes resoluciones temporales\n",
    "\t\\item Extracción de componentes periódicas\n",
    "\t\\item Suavizado de la señal\n",
    "\t\\item Extracción de periodicidades con amplitud variante\n",
    "\\end{enumerate}\n",
    "Siendo el primero de ellos de mayor interés en las aplicaciones a series de tiempo biológicas acompañado de una búsqueda por el filtrado de las señales del ruido y artefactos. Algunas de las aplicaciones de SSA en señales de EEG incluyen: \n",
    "\\begin{enumerate}\n",
    "\t\\item Mohammadi, Kouchaki \\& Sanei (2016) publicaron la aplicación de métodos de SSA como parte del preprocesamiento de datos para mejorar la precisión un clasificador SVM (Support Vector Machine) para la identificación de los dominios tiempo-frecuencia del sueño \\cite{mohammadi2016improving}.\n",
    "\t\\item Hu, Guo, Liu \\& Wang (2017) implementaron un análisis de SSA para la extracción de ritmos y remoción de artefactos en señales de EEG \\cite{hu2017adaptive}.\n",
    "\t\\item Dora, Patro, Rout Biswal \\& Biswal (2020) propusieron un algoritmo de SSA en conjunto con una red neuronal recurrente (RNN) para la remoción de artefactos musculares en canales únicos de EEG \\cite{dora2020adaptive}.\n",
    "\\end{enumerate}"
   ]
  },
  {
   "cell_type": "markdown",
   "metadata": {},
   "source": [
    "### SSA básico"
   ]
  },
  {
   "cell_type": "markdown",
   "metadata": {},
   "source": [
    "### Información Complementaria"
   ]
  },
  {
   "cell_type": "markdown",
   "metadata": {},
   "source": [
    "### Separarbilidad"
   ]
  },
  {
   "cell_type": "markdown",
   "metadata": {},
   "source": [
    "### Referencias"
   ]
  }
 ],
 "metadata": {
  "kernelspec": {
   "display_name": "Python 3",
   "language": "python",
   "name": "python3"
  },
  "language_info": {
   "codemirror_mode": {
    "name": "ipython",
    "version": 3
   },
   "file_extension": ".py",
   "mimetype": "text/x-python",
   "name": "python",
   "nbconvert_exporter": "python",
   "pygments_lexer": "ipython3",
   "version": "3.8.5"
  }
 },
 "nbformat": 4,
 "nbformat_minor": 4
}
