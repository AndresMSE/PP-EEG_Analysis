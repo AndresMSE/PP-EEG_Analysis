{
 "cells": [
  {
   "cell_type": "markdown",
   "metadata": {},
   "source": [
    "# La transformada continua Wavelet \n",
    "***"
   ]
  },
  {
   "cell_type": "markdown",
   "metadata": {},
   "source": [
    "### Sinopsis\n",
    "\n",
    "*__Datos:__ 3 segundos de registro EEG lóbulo occipital muestreados a 500 Hz bajo condiciones de relajación con los ojos cerrados.* <br>\n",
    "*__Objetivo:__ Conocer, definir e implementar la transformada contínua wavelet para señales no estacionarias.* <br>\n",
    "*__Herramientas:__ Wavelets, Transformada Contínua Wavelet.* <br>"
   ]
  },
  {
   "cell_type": "markdown",
   "metadata": {},
   "source": [
    "### Introducción\n",
    "\n",
    "Cuando se busca realizar algún método de análisis y/o procesamiento de señales, un requisito usual en éstos métodos, tales como la Transformada de Fourier, es la estacionariedad. Ésta característica de ciertas señales describe que a lo largo de la serie de tiempo sus propiedades estadísticas no cambian a lo largodel tiempo, algo que muchas veces o inclusive nunca es logra en señales de orígen biológico como lo es el caso de la electroencefalografía. Por esta razón, en términos prácticos muchas veces se asume la estacionariedad en un término más flexible llamado \"estacionariedad en sentido amplio\", el cual requiere una media constante y una función de correlación invariante en el tiempo.  Sin embargo, para una señal con media distinta de cero el equivalente para esta condición en el dominio de la frecuencia es que cuente con un espectro invariante en el tiempo. Por este motivo, en la práctica para emplear los métodos de análisis y procesamiento convencionales es necesario implementarlos sobre segmentos de tiempo cortos donde sea posible considerar a la señal como estacionaria estricta o en sentido amplio. La duración  para estos segmentos varía y depende del tipo de señal que se busque analizar, en el caso de resitros de EEG los segmentos pueden ser hasta de 20 segundos de duración (Cassani & Falk, 2019). De aquí surge la necesidad de contar con una representación  capaz de regristrar los cambios en el contenido de la frecuencia a lo largo del tiempo para llevar a cabo un análisis frecuencial sobre señales no estacionarias, es decir, se requiere de la construcción de una representación espectro-temporal la cuál puede ser obtenida mediante distintos métodos como lo son: \n",
    "<br>\n",
    "\n",
    "    - Transformada Corta de Fourier (STFT)\n",
    "    - Transformada Hilbert  (HT)\n",
    "    - Transformada Continua Wavelet (CWT)"
   ]
  },
  {
   "cell_type": "markdown",
   "metadata": {},
   "source": [
    "### Dominio Tiempo y Frecuencia\n",
    "\n",
    "Un elemento fundamental en el análisis y procesamiento de señales es la capacidad de representar señales en el dominio temporal y frecuencial mediante transformaciones matemáticas reversibles. Si bien existen muchos métodos para realizar estas transformaciones, el más utilizado es la transformada de Fourier y la transformada de Fourier inversa, que realizan la transformación tiempo-a-frecuencia y frecuencia-a-tiempo respectivamente. Matemáticamente se definen como sigue"
   ]
  },
  {
   "cell_type": "markdown",
   "metadata": {},
   "source": [
    "<script type=\"text/x-mathjax-config\">\n",
    "MathJax.Hub.Config({\n",
    "tex2jax: {\n",
    "inlineMath: [['$','$'], ['\\\\(','\\\\)']],\n",
    "processEscapes: true},\n",
    "jax: [\"input/TeX\",\"input/MathML\",\"input/AsciiMath\",\"output/CommonHTML\"],\n",
    "extensions: [\"tex2jax.js\",\"mml2jax.js\",\"asciimath2jax.js\",\"MathMenu.js\",\"MathZoom.js\",\"AssistiveMML.js\", \"[Contrib]/a11y/accessibility-menu.js\"],\n",
    "TeX: {\n",
    "extensions: [\"AMSmath.js\",\"AMSsymbols.js\",\"noErrors.js\",\"noUndefined.js\"],\n",
    "equationNumbers: {\n",
    "autoNumber: \"AMS\"\n",
    "}\n",
    "}\n",
    "});\n",
    "</script>\n",
    "\n",
    "<p align=\"center\">\n",
    "    $$ X(\\omega) = \\mathcal{F}\\{x(t)\\} = \\frac{1}{\\sqrt{2\\pi}}\\int^{\\infty}_{-\\infty} x(t) e^{-i2\\pi\\omega t}dt$$\n",
    "    <br>\n",
    "    $$ x(t) = \\mathcal{F}^{-1}\\{X(\\omega)\\} =\\frac{1}{\\sqrt{2\\pi}} \\int^{\\infty}_{-\\infty} X(\\omega) e^{i2\\pi\\omega t}d\\omega$$\n",
    "</p>"
   ]
  },
  {
   "cell_type": "markdown",
   "metadata": {},
   "source": [
    "Donde $\\mathcal{F}\\{\\cdot\\}$ y $\\mathcal{F}^{-1}\\{ \\cdot\\}$ denotan la transformada de Fourier (TF) y la transformada inversa (TFI) respectivamente; $x(t)$ es la señal en el dominio del tiempo; $X(\\omega)$ es una función compleja llamado espectro de $x(t)$ que bien puede escribirse como:\n",
    "\n",
    "$$X(\\omega) = ||X(\\omega)||e^{i\\theta(\\omega)}$$\n",
    "\n",
    "donde $||X(\\omega)||$ es la amplitud espectral con una fase $\\theta(\\omega)$ asociada. En general, $||X(\\omega)||$ representa la amplitud para dada frecuencia $\\omega$, con la cual se obtiene una representación usual en el dominio de la frecuencia que es la densidad espectral de energía $||X(\\omega)||^2$, la cual muestra la distribución de la energía de la señal para distintas frecuencias; es decir, el área bajo la curva $||X(\\omega)||^2$ entre $f_0-df$ y $f_0+df$ representa la energía de la componente $f_0$ en Hz.\n",
    "\n",
    "Ocurre un caso especial en el caso de TF para funciones $x(t)$ reales, en el cuál su espectro correspondiente presenta simetria Hermitiana, es decir las componentes espectrales para funciones negativas son equivalentes al complejo conjugado de las componentes para frecuencias positivas, es decir:\n",
    "\n",
    "$$X(\\omega) = X^{*}(-f) \\Rightarrow ||X(\\omega)|| = ||X^{*}(-f)|| $$\n",
    "\n",
    "Como consecuencia, la representación del espectro de señales reales se realiza solo para frecuencias positivas, por consiguiente para conservar la correcta relación entre componentes frecuenciales y su respectiva amplitud $||X(\\omega)||$ y potencia $||X(\\omega)||^2$, se deben duplicar los valores. \n",
    "\n",
    "Una cualidad importante que es útil y sencilla para corroborar que se realice una correcta transformada de Fourier es mediante la \"Relación de Parseval\" la cual demuestra que la TF es una operación unitaria, es decir, la integral (o la suma en el caso discreto) del cuadrado de una función es igual a la integral (o suma) del cuadrado de su transformada. Matemáticamente se expresa como:\n",
    "\n",
    "$$\\int_{-\\infty}^{\\infty} ||x(t)||^2 dt = \\int_{-\\infty}^{\\infty} ||X(\\omega)||^2 d\\omega$$\n",
    "\n",
    "O en su versión discreta, donde $X[j]$ representa la TFD de $x[n]$ :\n",
    "\n",
    "$$\\sum^{N-1}_{n=0}|x[n]|^2 = \\frac{1}{N}\\sum^{N-1}_{n=0} |X[j]|^2 $$\n",
    "Como ejercicio podemos emplear el código presentado en el módulo \"La electroencefalografía\" para obtener y graficar la TF y comprobar la Relación Parseval:"
   ]
  },
  {
   "cell_type": "markdown",
   "metadata": {},
   "source": [
    "##### Importe de paqueterías"
   ]
  },
  {
   "cell_type": "code",
   "execution_count": 1,
   "metadata": {},
   "outputs": [],
   "source": [
    "import pandas as pd  #Paq. p-manejo de archivos de datos\n",
    "import scipy as sc  #Paq. p-análisis numérico \n",
    "import numpy as np  #Paq. p-cálculo numérico\n",
    "import matplotlib   #Paq. p-graficación\n",
    "import matplotlib.pyplot as plt\n",
    "import os.path as os #Paq. p-despliegue de ruta"
   ]
  },
  {
   "cell_type": "markdown",
   "metadata": {},
   "source": [
    "##### Importación de los datos"
   ]
  },
  {
   "cell_type": "code",
   "execution_count": 73,
   "metadata": {},
   "outputs": [],
   "source": [
    "#Una variable para la dirección de nuestros archivos\n",
    "path = os.abspath('C:/Users/Andrew S/Documents/Trabajo/Fisica Biomedica/8vo/Servicio Social/')\n",
    "#Asociamos una variable al objeto DataFrame creado apartir del archivo extensión csv\n",
    "data = pd.read_csv(path +'/Jenny.csv')\n",
    "EEG = data['meditacion'] #Señal EEG en reposo"
   ]
  },
  {
   "cell_type": "markdown",
   "metadata": {},
   "source": [
    "##### Relación de Parseval\n",
    "\n",
    "A continuación realizamos el cálculo de la TF haciendo uso del algoritmo de FFT, posteriormente comprobamos la relación definiendo una función que realice la \"integración\", es decir la suma de los valores absolutos cuadrados i de la serie."
   ]
  },
  {
   "cell_type": "code",
   "execution_count": 74,
   "metadata": {},
   "outputs": [],
   "source": [
    "def Suma (x): #La función recibira una variable de tipo array\n",
    "    suma = 0 #Definimos el valor inicial de la suma en 0\n",
    "    for i in range(len(x)): #iniciamos un ciclo for durante el cual se realizará la operación\n",
    "        suma += abs(x[i])**2 #iterativamente sumamos el valor anterior de la variable más el elemento i del array\n",
    "    return suma"
   ]
  },
  {
   "cell_type": "code",
   "execution_count": 82,
   "metadata": {},
   "outputs": [
    {
     "name": "stderr",
     "output_type": "stream",
     "text": [
      "<ipython-input-82-4e57879c4527>:2: DeprecationWarning: Using scipy.fft as a function is deprecated and will be removed in SciPy 1.5.0, use scipy.fft.fft instead.\n",
      "  P2_frequency = 1/N * Suma(sc.fft(EEG)) #Realizamos el procedimiento análogo para el array del dominio de las frecuencias\n"
     ]
    },
    {
     "data": {
      "text/plain": [
       "0.0"
      ]
     },
     "execution_count": 82,
     "metadata": {},
     "output_type": "execute_result"
    }
   ],
   "source": [
    "P1_time = Suma(EEG) #Obtenemos la suma del array 'x^2' y lo asignamos a una nueva variable\n",
    "P2_frequency = 1/N * Suma(sc.fft(EEG)) #Realizamos el procedimiento análogo para el array del dominio de las frecuencias\n",
    "P1_time // P2_frequency"
   ]
  },
  {
   "cell_type": "markdown",
   "metadata": {},
   "source": [
    "### Operaciones fundamentales"
   ]
  },
  {
   "cell_type": "markdown",
   "metadata": {},
   "source": [
    "#### La convolución\n",
    "\n",
    "Una de las operaciones fundamentales sobre la que reposa la WCT, es la convolución, la cual podemos entender en palabras simples como un operador que toma dos funciones y regresa una tercera función que cuenta con los elementos de ambas funciones ya que representa la magnitud en la que se superpone la primera función y la segunda función invertida y trasladada. Matemáticamente en el espacio de funciones continuas se expresa para dadas funciones $f$ y $g$ como: \n",
    "\n",
    "$$ f(t)\\star g(t) = \\int_{-\\infty}^{\\infty} f(\\tau)g(t-\\tau) d\\tau$$"
   ]
  },
  {
   "cell_type": "code",
   "execution_count": null,
   "metadata": {},
   "outputs": [],
   "source": []
  },
  {
   "cell_type": "markdown",
   "metadata": {},
   "source": [
    "### Descomposición Wavelet\n",
    "\n"
   ]
  },
  {
   "cell_type": "code",
   "execution_count": null,
   "metadata": {},
   "outputs": [],
   "source": []
  },
  {
   "cell_type": "markdown",
   "metadata": {},
   "source": [
    "### Wavelets - los kernels"
   ]
  },
  {
   "cell_type": "code",
   "execution_count": null,
   "metadata": {},
   "outputs": [],
   "source": []
  },
  {
   "cell_type": "markdown",
   "metadata": {},
   "source": [
    "### Transformada Contínua Wavelet"
   ]
  },
  {
   "cell_type": "code",
   "execution_count": null,
   "metadata": {},
   "outputs": [],
   "source": []
  }
 ],
 "metadata": {
  "kernelspec": {
   "display_name": "Python 3",
   "language": "python",
   "name": "python3"
  },
  "language_info": {
   "codemirror_mode": {
    "name": "ipython",
    "version": 3
   },
   "file_extension": ".py",
   "mimetype": "text/x-python",
   "name": "python",
   "nbconvert_exporter": "python",
   "pygments_lexer": "ipython3",
   "version": "3.8.5"
  }
 },
 "nbformat": 4,
 "nbformat_minor": 4
}
